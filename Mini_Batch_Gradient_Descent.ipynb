{
 "cells": [
  {
   "attachments": {},
   "cell_type": "markdown",
   "id": "be729962-4d5b-4ef8-83e9-135395aaa434",
   "metadata": {},
   "source": [
    "### Mini Batch Gradient Descent (MBGD)\n",
    "\n",
    "`Mini batch gradient descent is a combination of batch gradient descent and stochastic gradient descent. BGD uses all samples for update which makes it stable but slow. SGD uses one sample per update which makes it fast but noisy where as MBGD uses small group/batch of samples per update which makes it stable compared to SGD and faster compared to BGD.`\n",
    "\n",
    "#### Advantage\n",
    "> **1. Faster than BGD:** <br>\n",
    "> **2. More stable than SGD:** <br>\n",
    "> **3. Works well with large dataset:** <br>\n",
    "\n",
    "#### Disadvantage\n",
    "> **1. Slower Convergence than SGD:** <br>\n",
    "> **2. Choosing batch size is crucial:** <br>`A small batch leads to noisy updates like SGD, while a large batch behave like BGD which makes it slower.`"
   ]
  },
  {
   "cell_type": "code",
   "execution_count": 1,
   "id": "f491f23e-2e00-4713-9679-6e67037b8cea",
   "metadata": {},
   "outputs": [],
   "source": [
    "# Import Libraries\n",
    "\n",
    "from sklearn.datasets import make_regression\n",
    "import pandas as pd\n",
    "import numpy as np\n",
    "import matplotlib.pyplot as plt\n",
    "import seaborn as sns\n",
    "import matplotlib.image\n",
    "\n",
    "from sklearn.model_selection import train_test_split\n",
    "from sklearn.linear_model import SGDRegressor, LinearRegression\n",
    "from sklearn.metrics import r2_score"
   ]
  },
  {
   "cell_type": "code",
   "execution_count": 2,
   "id": "26a8bd07-af32-489e-9d47-da6f1c4b6a87",
   "metadata": {},
   "outputs": [],
   "source": [
    "# Create data for regression\n",
    "\n",
    "X,y = make_regression(n_samples= 100, n_features= 5, n_informative= 3, n_targets= 1, noise= 50, random_state= 1)"
   ]
  },
  {
   "cell_type": "code",
   "execution_count": 3,
   "id": "ad9b61d5-dfb4-4536-a0dc-57855bdaa7d4",
   "metadata": {},
   "outputs": [],
   "source": [
    "# Split data\n",
    "\n",
    "X_train, X_test, y_train, y_test = train_test_split(X, y, test_size= 0.3, random_state= 0)"
   ]
  },
  {
   "cell_type": "code",
   "execution_count": 4,
   "id": "1af3edc2-727f-46ee-9fa1-04547585008f",
   "metadata": {
    "scrolled": true
   },
   "outputs": [
    {
     "data": {
      "text/plain": [
       "array([[ 9.20017933e-01, -1.95057341e-01, -7.01344426e-01,\n",
       "         8.05393424e-01,  1.01012718e+00],\n",
       "       [ 5.28879746e-01, -2.23708651e+00, -1.77183179e-02,\n",
       "        -1.10771250e+00, -8.28627979e-01],\n",
       "       [-3.86955093e-02, -1.61577235e+00,  4.08900538e-01,\n",
       "         1.12141771e+00, -1.31228341e+00],\n",
       "       [-7.75161619e-01,  1.27375593e+00, -1.85798186e+00,\n",
       "         1.96710175e+00, -2.46169559e-02],\n",
       "       [-5.04465863e-01,  1.60037069e-01,  3.15634947e-01,\n",
       "         8.76168921e-01, -1.44411381e+00],\n",
       "       [ 1.61336137e+00, -3.74804687e-01,  2.05462410e+00,\n",
       "        -7.49969617e-01, -2.28765829e-01],\n",
       "       [-3.06204013e-01,  8.27974643e-01,  7.62011180e-01,\n",
       "         2.30094735e-01, -2.02220122e+00],\n",
       "       [ 5.62761097e-01,  2.40737092e-01, -7.31127037e-02,\n",
       "         2.80665077e-01, -6.17362064e-01],\n",
       "       [-2.06014071e+00, -3.22417204e-01,  1.13376944e+00,\n",
       "        -3.84054355e-01,  1.46210794e+00],\n",
       "       [ 1.54335911e+00,  7.58805660e-01, -8.77281519e-01,\n",
       "         8.84908814e-01,  8.36004719e-01],\n",
       "       [ 5.02740882e-01,  1.55880554e+00, -1.21974440e+00,\n",
       "         1.09402696e-01,  1.61694960e+00],\n",
       "       [ 7.78211279e-02,  6.18380262e-01,  6.82551407e-01,\n",
       "         2.32494559e-01,  1.37701210e-01],\n",
       "       [ 6.18539131e-01, -4.43171931e-01, -1.30572692e+00,\n",
       "         1.81053491e+00,  6.74711526e-01],\n",
       "       [-1.18771172e-01, -1.98998184e-01, -4.18937898e-01,\n",
       "         1.86647138e+00,  7.77419205e-01],\n",
       "       [-2.03720123e+00, -1.94258918e+00, -2.11416392e+00,\n",
       "        -2.50644065e+00, -6.18036848e-01],\n",
       "       [-3.10984978e-01, -1.89148284e-03, -8.61316361e-01,\n",
       "        -1.39662042e+00, -4.98213564e-01],\n",
       "       [ 2.05117344e+00,  5.85662000e-01, -6.06998398e-01,\n",
       "         4.29526140e-01, -1.04458938e+00],\n",
       "       [-6.11756414e-01, -5.28171752e-01,  8.65407629e-01,\n",
       "        -1.07296862e+00,  1.62434536e+00],\n",
       "       [ 1.90915485e-01,  2.10025514e+00,  6.17203110e-01,\n",
       "         1.20158952e-01, -6.36995647e-01],\n",
       "       [ 3.15159392e-01,  8.46160648e-01,  3.50545979e-01,\n",
       "        -8.59515941e-01, -1.37311732e+00],\n",
       "       [ 3.69492716e-01,  1.90465871e+00,  6.59049796e-01,\n",
       "         1.11105670e+00,  1.16033857e+00],\n",
       "       [ 1.14472371e+00,  9.01590721e-01,  9.00855949e-01,\n",
       "         5.02494339e-01, -1.10061918e+00],\n",
       "       [ 1.25286816e+00,  5.12929820e-01,  4.88518147e-01,\n",
       "        -2.98092835e-01, -7.54397941e-01],\n",
       "       [ 9.86335188e-01,  2.13533901e-01, -1.89636092e+00,\n",
       "         2.19069973e+00, -1.74703160e-01],\n",
       "       [-1.36444744e-01, -1.19054188e-01, -1.12201873e+00,\n",
       "         1.74094083e-02, -1.00155233e-01],\n",
       "       [-1.65072127e+00, -8.90555584e-01,  1.95607890e+00,\n",
       "        -1.11911540e+00, -1.76068856e+00],\n",
       "       [ 4.66643267e-01,  1.03368687e+00,  1.78975468e+00,\n",
       "         8.08844360e-01, -4.97025792e-02],\n",
       "       [-2.30839743e-01, -2.79308500e+00,  3.66332015e-01,\n",
       "         1.93752881e+00, -3.44987210e-01],\n",
       "       [-1.87316098e+00,  9.20615118e-01,  2.11060505e+00,\n",
       "        -3.53679249e-02,  7.94528240e-01],\n",
       "       [ 2.01830179e-01,  6.61020288e-01, -1.20464572e-01,\n",
       "         1.79215821e+00,  2.42669441e-01],\n",
       "       [-5.45774168e-01, -1.98837863e-01, -2.03394449e-01,\n",
       "        -7.00398505e-01,  2.44936865e+00],\n",
       "       [ 9.01486892e-01,  2.52832571e+00,  4.36689932e-02,\n",
       "        -2.48634778e-01, -6.46916688e-01],\n",
       "       [ 6.23362177e-01, -4.34956683e-01,  1.29101580e-01,\n",
       "         1.40754000e+00,  8.75838928e-01],\n",
       "       [ 1.33145711e+00, -2.87307863e-01, -3.19801599e-01,\n",
       "         6.80069840e-01, -2.26314243e-01],\n",
       "       [-9.97026828e-01,  2.48799161e-01,  4.95211324e-01,\n",
       "        -2.96641152e-01, -5.17094458e-01],\n",
       "       [-3.43853676e-01,  4.35968568e-02,  6.98032034e-01,\n",
       "        -6.20000844e-01,  7.73400683e-02],\n",
       "       [-2.14246673e+00, -8.30168864e-01,  1.10417433e+00,\n",
       "         4.51615951e-01,  8.64644065e-02],\n",
       "       [ 3.13547720e-01,  5.03184813e-01, -1.10447026e-01,\n",
       "         1.29322588e+00, -1.27255876e+00],\n",
       "       [-1.44087602e+00,  1.23225307e+00,  1.39984394e+00,\n",
       "        -2.54179868e-01, -8.67787223e-01],\n",
       "       [ 1.27852808e+00, -4.42229280e-01, -1.09991490e-01,\n",
       "         3.23527354e-01, -4.11639163e-01],\n",
       "       [ 1.62765075e+00,  3.38011697e-01,  8.63345318e-01,\n",
       "        -1.19926803e+00,  1.23616403e+00],\n",
       "       [ 1.74481176e+00, -7.61206901e-01, -2.49370375e-01,\n",
       "         3.19039096e-01, -2.30153870e+00],\n",
       "       [-7.97269785e-01,  2.82675712e-01,  6.21082701e-01,\n",
       "        -8.26097432e-01, -1.35977326e-01],\n",
       "       [-1.15985185e-01, -1.75458969e-01, -5.33020326e-01,\n",
       "        -9.33914656e-01, -1.84176326e-01],\n",
       "       [-7.05840507e-01,  1.19268607e+00,  1.15528789e+00,\n",
       "        -2.37941936e-01,  9.56121704e-01],\n",
       "       [-3.52249846e-01, -1.14251820e+00, -2.08894233e-01,\n",
       "        -3.49342722e-01,  3.00170320e-01],\n",
       "       [ 2.84748111e-01,  2.62467445e-01, -7.33271604e-01,\n",
       "         2.76499305e-01,  1.20205486e+00],\n",
       "       [ 2.05635552e+00,  1.76024923e+00, -2.41350300e+00,\n",
       "        -6.06524918e-02, -2.81736269e-01],\n",
       "       [ 1.13162939e+00,  1.51981682e+00, -1.39649634e+00,\n",
       "         2.18557541e+00, -7.55717130e-02],\n",
       "       [ 1.76795995e+00, -4.75372875e-01, -1.02188594e+00,\n",
       "         4.77610182e-01, -1.42655542e+00],\n",
       "       [-4.68673816e-01,  8.53281222e-01,  1.83471763e+00,\n",
       "        -4.13029310e-01,  2.18628366e-02],\n",
       "       [-5.68244809e-02,  4.92336556e-01, -8.45080274e-02,\n",
       "        -6.80678141e-01, -1.86578994e-01],\n",
       "       [ 1.19783084e+00,  1.70459417e+00, -9.18440038e-01,\n",
       "         1.04008915e+00,  5.92472801e-01],\n",
       "       [ 3.53600971e-02, -1.53879325e+00,  6.17985534e-01,\n",
       "        -4.47895185e-01,  8.52704062e-01],\n",
       "       [ 7.63804802e-02,  3.67231814e-01, -4.22856961e-01,\n",
       "         1.23289919e+00, -1.30653407e+00],\n",
       "       [ 9.39168744e-01, -1.94332341e+00, -2.36436952e-01,\n",
       "         3.52494364e-01, -5.57494722e-01],\n",
       "       [-1.01745873e-01,  8.68886157e-01,  5.29465324e-01,\n",
       "         7.50411640e-01, -1.86569772e-01],\n",
       "       [ 1.56263850e-01, -1.90221025e-01, -6.72448039e-01,\n",
       "        -4.48738033e-01, -5.37223024e-01],\n",
       "       [-1.68198840e-01, -1.74180344e-01, -1.17598267e+00,\n",
       "         4.61164100e-01,  8.54894544e-03],\n",
       "       [-1.34267579e+00,  1.11438298e+00, -1.23685338e+00,\n",
       "        -5.86523939e-01, -3.26499498e-01],\n",
       "       [ 1.33526763e-02, -6.94693595e-01, -5.99804531e-01,\n",
       "         6.21803504e-01,  1.62284909e+00],\n",
       "       [-1.00016919e+00,  1.04499441e+00, -6.93286967e-02,\n",
       "         6.08514698e-01, -3.43900709e-01],\n",
       "       [ 4.50155513e-01,  1.76533510e+00, -5.08457134e-01,\n",
       "         8.70969803e-01, -1.08392067e-01],\n",
       "       [-6.70662286e-01,  3.77563786e-01,  1.12948391e+00,\n",
       "         1.21821271e-01,  1.19008646e-01],\n",
       "       [-1.52568032e+00,  7.95026094e-01,  1.34048197e-01,\n",
       "        -3.74438319e-01,  1.06222724e-01],\n",
       "       [ 1.85156417e-01, -3.75284950e-01,  4.23494354e-01,\n",
       "        -6.38730407e-01,  1.19891788e+00],\n",
       "       [-1.18231813e+00, -6.65754518e-01,  8.25029824e-01,\n",
       "        -1.67419581e+00, -1.23312074e+00],\n",
       "       [-3.96753527e-01, -6.87172700e-01, -6.71246131e-01,\n",
       "        -8.45205641e-01, -6.91660752e-01],\n",
       "       [-2.00758069e-01,  1.86561391e-01,  1.98299720e-01,\n",
       "         4.10051647e-01, -2.22328143e-01],\n",
       "       [ 1.65275673e-02,  1.77187720e-01,  8.09271010e-02,\n",
       "        -1.11647002e+00,  2.11124755e-01]])"
      ]
     },
     "execution_count": 4,
     "metadata": {},
     "output_type": "execute_result"
    }
   ],
   "source": [
    "X_train"
   ]
  },
  {
   "cell_type": "markdown",
   "id": "fbee2d22-0f73-4735-a078-4eebebb57271",
   "metadata": {},
   "source": [
    "### Mini Batch Gradient Descent from scratch"
   ]
  },
  {
   "cell_type": "code",
   "execution_count": 8,
   "id": "b447523a-760c-4f3d-b1df-d06a80f99cbc",
   "metadata": {},
   "outputs": [],
   "source": [
    "# write a class for for gradient descent\n",
    "\n",
    "class MBGD:\n",
    "    '''\n",
    "    training: method for learning the intercept and slope,\n",
    "    testing: method for visual representation of the predicted line.\n",
    "    '''\n",
    "    def __init__(self, learning_rate=0.005, epochs= 100):\n",
    "        '''\n",
    "        Input: intercept, slope and learning rate as input\n",
    "        '''\n",
    "        self.intercept_ = None\n",
    "        self.coeff_ = None\n",
    "        self.learning_rate = learning_rate\n",
    "        self.epochs = epochs\n",
    "    \n",
    "    def training(self, X_train, y_train):\n",
    "        '''\n",
    "        Input: independent(X_train), dependant(y_train) variable and number of iterations\n",
    "        Output: returns updated intercept and slope\n",
    "        '''\n",
    "\n",
    "        X_train = pd.DataFrame(X_train) # convert data to dataframe\n",
    "\n",
    "        # Initilize weights and bias\n",
    "        self.intercept_ = 0\n",
    "        self.coeff_ = np.ones(X_train.shape[1])\n",
    "        \n",
    "        for iter in range(self.epochs):\n",
    "            for j in range(int(X_train.shape[0]//10)):\n",
    "\n",
    "                # Choose random data\n",
    "                index_ = X_train.sample(10, replace= False).index \n",
    "                \n",
    "                # Compute predictions\n",
    "                y_pred = np.dot(X_train.iloc[index_,:], self.coeff_) + self.intercept_ # m*x + b\n",
    "    \n",
    "                # Compute gradients\n",
    "                derivative_intercept = -2 * np.mean(y_train[index_] - y_pred) # -2*(y_train - intercept - X_train[index_]* coeff)\n",
    "                # derivative_intercept = -2 * np.sum(y_train[index_] - y_pred) # -2*(y_train[index_] - intercept - X_train[index_]* coeff)\n",
    "                derivative_slope = -2 * np.dot((y_train[index_] - y_pred), X_train.iloc[index_,:]) # -2*((y_train[index_] - intercept - X_train[index_]* coeff)*X_train[index_])\n",
    "                \n",
    "                self.intercept_ = self.intercept_ - (self.learning_rate * derivative_intercept)\n",
    "                self.coeff_ = self.coeff_ - (self.learning_rate * derivative_slope)\n",
    "            \n",
    "        return self.intercept_, self.coeff_\n",
    "\n",
    "    def testing(self, X):\n",
    "        '''\n",
    "        Input: independent(X_train) and dependant(y_train) variable\n",
    "        Output: predictions\n",
    "        '''\n",
    "        y_test_pred = np.dot(X,self.coeff_) + self.intercept_\n",
    "        \n",
    "        return y_test_pred"
   ]
  },
  {
   "cell_type": "code",
   "execution_count": 9,
   "id": "797664e8-1253-4f5a-b588-af74725a3dbe",
   "metadata": {},
   "outputs": [
    {
     "data": {
      "text/plain": [
       "<__main__.MBGD at 0x258d886d220>"
      ]
     },
     "execution_count": 9,
     "metadata": {},
     "output_type": "execute_result"
    }
   ],
   "source": [
    "# create instance/object\n",
    "\n",
    "mbgd = MBGD()\n",
    "mbgd"
   ]
  },
  {
   "cell_type": "code",
   "execution_count": 10,
   "id": "99a16e6a-b353-4ac6-9ddd-5b37c7a02dea",
   "metadata": {},
   "outputs": [
    {
     "data": {
      "text/plain": [
       "(np.float64(-0.09647283424041245),\n",
       " array([12.74744395, 59.44129636,  8.84717471, -5.27963939, 30.01157535]))"
      ]
     },
     "execution_count": 10,
     "metadata": {},
     "output_type": "execute_result"
    }
   ],
   "source": [
    "mbgd.training(X_train, y_train)"
   ]
  },
  {
   "cell_type": "markdown",
   "id": "e7e46f02-687d-4e93-ba7f-8df00fa0e746",
   "metadata": {},
   "source": [
    "`It takes random observation, so it will always give different output.`"
   ]
  }
 ],
 "metadata": {
  "kernelspec": {
   "display_name": "Python 3 (ipykernel)",
   "language": "python",
   "name": "python3"
  },
  "language_info": {
   "codemirror_mode": {
    "name": "ipython",
    "version": 3
   },
   "file_extension": ".py",
   "mimetype": "text/x-python",
   "name": "python",
   "nbconvert_exporter": "python",
   "pygments_lexer": "ipython3",
   "version": "3.12.9"
  },
  "widgets": {
   "application/vnd.jupyter.widget-state+json": {
    "state": {},
    "version_major": 2,
    "version_minor": 0
   }
  }
 },
 "nbformat": 4,
 "nbformat_minor": 5
}
